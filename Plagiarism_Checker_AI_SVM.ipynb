{
 "cells": [
  {
   "cell_type": "code",
   "execution_count": 1,
   "id": "d473be9c-d1e1-400f-9377-da1f4957cbf7",
   "metadata": {},
   "outputs": [],
   "source": [
    "# Importing essential requirments\n",
    "import pandas as pd\n",
    "from sklearn.feature_extraction.text import TfidfVectorizer\n",
    "from sklearn.model_selection import train_test_split\n",
    "from sklearn.svm import SVC\n",
    "from sklearn.svm import LinearSVC\n",
    "from sklearn.metrics import classification_report, accuracy_score\n",
    "\n"
   ]
  },
  {
   "cell_type": "code",
   "execution_count": 2,
   "id": "c19c5eee-9172-49f1-a617-b7eaeec9a34f",
   "metadata": {},
   "outputs": [
    {
     "data": {
      "text/html": [
       "<div>\n",
       "<style scoped>\n",
       "    .dataframe tbody tr th:only-of-type {\n",
       "        vertical-align: middle;\n",
       "    }\n",
       "\n",
       "    .dataframe tbody tr th {\n",
       "        vertical-align: top;\n",
       "    }\n",
       "\n",
       "    .dataframe thead th {\n",
       "        text-align: right;\n",
       "    }\n",
       "</style>\n",
       "<table border=\"1\" class=\"dataframe\">\n",
       "  <thead>\n",
       "    <tr style=\"text-align: right;\">\n",
       "      <th></th>\n",
       "      <th>A person on a horse jumps over a broken down airplane.</th>\n",
       "      <th>A person is at a diner, ordering an omelette.</th>\n",
       "      <th>0</th>\n",
       "    </tr>\n",
       "  </thead>\n",
       "  <tbody>\n",
       "    <tr>\n",
       "      <th>0</th>\n",
       "      <td>A person on a horse jumps over a broken down a...</td>\n",
       "      <td>A person is outdoors, on a horse.</td>\n",
       "      <td>1</td>\n",
       "    </tr>\n",
       "    <tr>\n",
       "      <th>1</th>\n",
       "      <td>Children smiling and waving at camera</td>\n",
       "      <td>There are children present</td>\n",
       "      <td>1</td>\n",
       "    </tr>\n",
       "    <tr>\n",
       "      <th>2</th>\n",
       "      <td>Children smiling and waving at camera</td>\n",
       "      <td>The kids are frowning</td>\n",
       "      <td>0</td>\n",
       "    </tr>\n",
       "    <tr>\n",
       "      <th>3</th>\n",
       "      <td>A boy is jumping on skateboard in the middle o...</td>\n",
       "      <td>The boy skates down the sidewalk.</td>\n",
       "      <td>0</td>\n",
       "    </tr>\n",
       "    <tr>\n",
       "      <th>4</th>\n",
       "      <td>A boy is jumping on skateboard in the middle o...</td>\n",
       "      <td>The boy does a skateboarding trick.</td>\n",
       "      <td>1</td>\n",
       "    </tr>\n",
       "  </tbody>\n",
       "</table>\n",
       "</div>"
      ],
      "text/plain": [
       "  A person on a horse jumps over a broken down airplane.  \\\n",
       "0  A person on a horse jumps over a broken down a...       \n",
       "1              Children smiling and waving at camera       \n",
       "2              Children smiling and waving at camera       \n",
       "3  A boy is jumping on skateboard in the middle o...       \n",
       "4  A boy is jumping on skateboard in the middle o...       \n",
       "\n",
       "  A person is at a diner, ordering an omelette.  0  \n",
       "0             A person is outdoors, on a horse.  1  \n",
       "1                    There are children present  1  \n",
       "2                         The kids are frowning  0  \n",
       "3             The boy skates down the sidewalk.  0  \n",
       "4           The boy does a skateboarding trick.  1  "
      ]
     },
     "execution_count": 2,
     "metadata": {},
     "output_type": "execute_result"
    }
   ],
   "source": [
    "# Loading Dataset (plagiarism-mit-detection)\n",
    "df = pd.read_csv(r\"C:\\Users\\user\\Desktop\\project\\Plagiarism_Checker_AI\\Dataset\\train_snli.txt\", sep='\\t')\n",
    "df.head()"
   ]
  },
  {
   "cell_type": "code",
   "execution_count": 3,
   "id": "1657347b-65f1-4274-ba25-7d65bacaa2e5",
   "metadata": {},
   "outputs": [
    {
     "data": {
      "text/plain": [
       "A person on a horse jumps over a broken down airplane.    0\n",
       "A person is at a diner, ordering an omelette.             4\n",
       "0                                                         0\n",
       "dtype: int64"
      ]
     },
     "execution_count": 3,
     "metadata": {},
     "output_type": "execute_result"
    }
   ],
   "source": [
    "# checking is there any null value\n",
    "df.isnull().sum()"
   ]
  },
  {
   "cell_type": "code",
   "execution_count": 4,
   "id": "353217c4-dc37-474c-8862-f5c096478a4f",
   "metadata": {},
   "outputs": [],
   "source": [
    "# Cleanning the missing values \n",
    "df.dropna(inplace=True)"
   ]
  },
  {
   "cell_type": "code",
   "execution_count": 5,
   "id": "9d325039-b3b0-494b-ae88-60199fb545b0",
   "metadata": {},
   "outputs": [
    {
     "data": {
      "text/plain": [
       "(367368, 3)"
      ]
     },
     "execution_count": 5,
     "metadata": {},
     "output_type": "execute_result"
    }
   ],
   "source": [
    "df.shape"
   ]
  },
  {
   "cell_type": "code",
   "execution_count": 6,
   "id": "f3e6c098-d91d-455d-a74a-7f0bd1994985",
   "metadata": {},
   "outputs": [],
   "source": [
    "#3. renaming columns \n",
    "df.columns = ['sentence1', 'sentence2', 'label']\n",
    "# 4. Prepare text and labels\n",
    "X1 = df['sentence1']\n",
    "X2 = df['sentence2']\n",
    "y = df['label']"
   ]
  },
  {
   "cell_type": "code",
   "execution_count": 7,
   "id": "52b07cdf-32fb-4e4b-b76d-6602eb28d63e",
   "metadata": {},
   "outputs": [
    {
     "data": {
      "text/html": [
       "<div>\n",
       "<style scoped>\n",
       "    .dataframe tbody tr th:only-of-type {\n",
       "        vertical-align: middle;\n",
       "    }\n",
       "\n",
       "    .dataframe tbody tr th {\n",
       "        vertical-align: top;\n",
       "    }\n",
       "\n",
       "    .dataframe thead th {\n",
       "        text-align: right;\n",
       "    }\n",
       "</style>\n",
       "<table border=\"1\" class=\"dataframe\">\n",
       "  <thead>\n",
       "    <tr style=\"text-align: right;\">\n",
       "      <th></th>\n",
       "      <th>sentence1</th>\n",
       "      <th>sentence2</th>\n",
       "      <th>label</th>\n",
       "    </tr>\n",
       "  </thead>\n",
       "  <tbody>\n",
       "    <tr>\n",
       "      <th>0</th>\n",
       "      <td>A person on a horse jumps over a broken down a...</td>\n",
       "      <td>A person is outdoors, on a horse.</td>\n",
       "      <td>1</td>\n",
       "    </tr>\n",
       "    <tr>\n",
       "      <th>1</th>\n",
       "      <td>Children smiling and waving at camera</td>\n",
       "      <td>There are children present</td>\n",
       "      <td>1</td>\n",
       "    </tr>\n",
       "    <tr>\n",
       "      <th>2</th>\n",
       "      <td>Children smiling and waving at camera</td>\n",
       "      <td>The kids are frowning</td>\n",
       "      <td>0</td>\n",
       "    </tr>\n",
       "    <tr>\n",
       "      <th>3</th>\n",
       "      <td>A boy is jumping on skateboard in the middle o...</td>\n",
       "      <td>The boy skates down the sidewalk.</td>\n",
       "      <td>0</td>\n",
       "    </tr>\n",
       "    <tr>\n",
       "      <th>4</th>\n",
       "      <td>A boy is jumping on skateboard in the middle o...</td>\n",
       "      <td>The boy does a skateboarding trick.</td>\n",
       "      <td>1</td>\n",
       "    </tr>\n",
       "    <tr>\n",
       "      <th>...</th>\n",
       "      <td>...</td>\n",
       "      <td>...</td>\n",
       "      <td>...</td>\n",
       "    </tr>\n",
       "    <tr>\n",
       "      <th>367367</th>\n",
       "      <td>A dog with a blue collar plays ball outside.</td>\n",
       "      <td>a dog is outside</td>\n",
       "      <td>1</td>\n",
       "    </tr>\n",
       "    <tr>\n",
       "      <th>367368</th>\n",
       "      <td>Four dirty and barefooted children.</td>\n",
       "      <td>four children have dirty feet.</td>\n",
       "      <td>1</td>\n",
       "    </tr>\n",
       "    <tr>\n",
       "      <th>367369</th>\n",
       "      <td>Four dirty and barefooted children.</td>\n",
       "      <td>four kids won awards for 'cleanest feet'</td>\n",
       "      <td>0</td>\n",
       "    </tr>\n",
       "    <tr>\n",
       "      <th>367370</th>\n",
       "      <td>A man is surfing in a bodysuit in beautiful bl...</td>\n",
       "      <td>A man in a business suit is heading to a board...</td>\n",
       "      <td>0</td>\n",
       "    </tr>\n",
       "    <tr>\n",
       "      <th>367371</th>\n",
       "      <td>A man is surfing in a bodysuit in beautiful bl...</td>\n",
       "      <td>On the beautiful blue water there is a man in ...</td>\n",
       "      <td>1</td>\n",
       "    </tr>\n",
       "  </tbody>\n",
       "</table>\n",
       "<p>367368 rows × 3 columns</p>\n",
       "</div>"
      ],
      "text/plain": [
       "                                                sentence1  \\\n",
       "0       A person on a horse jumps over a broken down a...   \n",
       "1                   Children smiling and waving at camera   \n",
       "2                   Children smiling and waving at camera   \n",
       "3       A boy is jumping on skateboard in the middle o...   \n",
       "4       A boy is jumping on skateboard in the middle o...   \n",
       "...                                                   ...   \n",
       "367367       A dog with a blue collar plays ball outside.   \n",
       "367368                Four dirty and barefooted children.   \n",
       "367369                Four dirty and barefooted children.   \n",
       "367370  A man is surfing in a bodysuit in beautiful bl...   \n",
       "367371  A man is surfing in a bodysuit in beautiful bl...   \n",
       "\n",
       "                                                sentence2  label  \n",
       "0                       A person is outdoors, on a horse.      1  \n",
       "1                              There are children present      1  \n",
       "2                                   The kids are frowning      0  \n",
       "3                       The boy skates down the sidewalk.      0  \n",
       "4                     The boy does a skateboarding trick.      1  \n",
       "...                                                   ...    ...  \n",
       "367367                                   a dog is outside      1  \n",
       "367368                     four children have dirty feet.      1  \n",
       "367369           four kids won awards for 'cleanest feet'      0  \n",
       "367370  A man in a business suit is heading to a board...      0  \n",
       "367371  On the beautiful blue water there is a man in ...      1  \n",
       "\n",
       "[367368 rows x 3 columns]"
      ]
     },
     "execution_count": 7,
     "metadata": {},
     "output_type": "execute_result"
    }
   ],
   "source": [
    "df"
   ]
  },
  {
   "cell_type": "code",
   "execution_count": 8,
   "id": "09570a01-b545-4b78-b52a-e2cec1e9e881",
   "metadata": {},
   "outputs": [],
   "source": [
    "# !pip install nltk\n"
   ]
  },
  {
   "cell_type": "code",
   "execution_count": 9,
   "id": "de5dd9cd-fba1-48a5-842c-fa2c94819f02",
   "metadata": {},
   "outputs": [],
   "source": [
    "import nltk\n",
    "import string\n",
    "from nltk.corpus import stopwords\n",
    "from nltk.tokenize import word_tokenize\n",
    "from nltk.stem import WordNetLemmatizer\n",
    "\n",
    "# Make sure necessary NLTK packages are downloaded\n",
    "# nltk.download('punkt_tab')\n",
    "# nltk.download('stopwords')\n",
    "# nltk.download('wordnet')\n",
    "\n",
    "stop_words = set(stopwords.words('english'))\n",
    "lemmatizer = WordNetLemmatizer()\n",
    "\n",
    "def clean_text(text):\n",
    "    text = text.lower()  # lowercase once\n",
    "    tokens = word_tokenize(text)  # tokenize\n",
    "    tokens = [t for t in tokens if t not in string.punctuation]  # remove punctuation\n",
    "    tokens = [t for t in tokens if t not in stop_words]          # remove stopwords\n",
    "    tokens = [lemmatizer.lemmatize(t) for t in tokens]           # lemmatize\n",
    "    return \" \".join(tokens)\n"
   ]
  },
  {
   "cell_type": "code",
   "execution_count": 10,
   "id": "5f4df5c1-4b49-4bfb-9977-90aff92df714",
   "metadata": {},
   "outputs": [
    {
     "data": {
      "text/plain": [
       "'dont know something'"
      ]
     },
     "execution_count": 10,
     "metadata": {},
     "output_type": "execute_result"
    }
   ],
   "source": [
    "# example how this above function works\n",
    "clean_text(\"this is what to do when dont know +##@$$ but do something on your own\")\n"
   ]
  },
  {
   "cell_type": "code",
   "execution_count": 11,
   "id": "97a419d0-7d1d-4afc-8d4a-524f6fcec459",
   "metadata": {},
   "outputs": [],
   "source": [
    "df['sentence1'] = df['sentence1'].apply(clean_text)\n",
    "df['sentence2'] = df['sentence2'].apply(clean_text)\n",
    "\n",
    "# Now rename the columns to match your desired structure\n",
    "df.columns = ['clean1', 'clean2', 'label']\n"
   ]
  },
  {
   "cell_type": "code",
   "execution_count": 12,
   "id": "dc3c4ebd-229a-4787-86d1-30b71cc1a483",
   "metadata": {},
   "outputs": [
    {
     "data": {
      "text/html": [
       "<div>\n",
       "<style scoped>\n",
       "    .dataframe tbody tr th:only-of-type {\n",
       "        vertical-align: middle;\n",
       "    }\n",
       "\n",
       "    .dataframe tbody tr th {\n",
       "        vertical-align: top;\n",
       "    }\n",
       "\n",
       "    .dataframe thead th {\n",
       "        text-align: right;\n",
       "    }\n",
       "</style>\n",
       "<table border=\"1\" class=\"dataframe\">\n",
       "  <thead>\n",
       "    <tr style=\"text-align: right;\">\n",
       "      <th></th>\n",
       "      <th>clean1</th>\n",
       "      <th>clean2</th>\n",
       "      <th>label</th>\n",
       "    </tr>\n",
       "  </thead>\n",
       "  <tbody>\n",
       "    <tr>\n",
       "      <th>0</th>\n",
       "      <td>person horse jump broken airplane</td>\n",
       "      <td>person outdoors horse</td>\n",
       "      <td>1</td>\n",
       "    </tr>\n",
       "    <tr>\n",
       "      <th>1</th>\n",
       "      <td>child smiling waving camera</td>\n",
       "      <td>child present</td>\n",
       "      <td>1</td>\n",
       "    </tr>\n",
       "    <tr>\n",
       "      <th>2</th>\n",
       "      <td>child smiling waving camera</td>\n",
       "      <td>kid frowning</td>\n",
       "      <td>0</td>\n",
       "    </tr>\n",
       "    <tr>\n",
       "      <th>3</th>\n",
       "      <td>boy jumping skateboard middle red bridge</td>\n",
       "      <td>boy skate sidewalk</td>\n",
       "      <td>0</td>\n",
       "    </tr>\n",
       "    <tr>\n",
       "      <th>4</th>\n",
       "      <td>boy jumping skateboard middle red bridge</td>\n",
       "      <td>boy skateboarding trick</td>\n",
       "      <td>1</td>\n",
       "    </tr>\n",
       "    <tr>\n",
       "      <th>5</th>\n",
       "      <td>older man sits orange juice small table coffee...</td>\n",
       "      <td>boy flip burger</td>\n",
       "      <td>0</td>\n",
       "    </tr>\n",
       "    <tr>\n",
       "      <th>6</th>\n",
       "      <td>two blond woman hugging one another</td>\n",
       "      <td>woman sleeping</td>\n",
       "      <td>0</td>\n",
       "    </tr>\n",
       "    <tr>\n",
       "      <th>7</th>\n",
       "      <td>two blond woman hugging one another</td>\n",
       "      <td>woman showing affection</td>\n",
       "      <td>1</td>\n",
       "    </tr>\n",
       "    <tr>\n",
       "      <th>8</th>\n",
       "      <td>people restaurant setting one drinking orange ...</td>\n",
       "      <td>people sitting desk school</td>\n",
       "      <td>0</td>\n",
       "    </tr>\n",
       "    <tr>\n",
       "      <th>9</th>\n",
       "      <td>people restaurant setting one drinking orange ...</td>\n",
       "      <td>diner restaurant</td>\n",
       "      <td>1</td>\n",
       "    </tr>\n",
       "  </tbody>\n",
       "</table>\n",
       "</div>"
      ],
      "text/plain": [
       "                                              clean1  \\\n",
       "0                  person horse jump broken airplane   \n",
       "1                        child smiling waving camera   \n",
       "2                        child smiling waving camera   \n",
       "3           boy jumping skateboard middle red bridge   \n",
       "4           boy jumping skateboard middle red bridge   \n",
       "5  older man sits orange juice small table coffee...   \n",
       "6                two blond woman hugging one another   \n",
       "7                two blond woman hugging one another   \n",
       "8  people restaurant setting one drinking orange ...   \n",
       "9  people restaurant setting one drinking orange ...   \n",
       "\n",
       "                       clean2  label  \n",
       "0       person outdoors horse      1  \n",
       "1               child present      1  \n",
       "2                kid frowning      0  \n",
       "3          boy skate sidewalk      0  \n",
       "4     boy skateboarding trick      1  \n",
       "5             boy flip burger      0  \n",
       "6              woman sleeping      0  \n",
       "7     woman showing affection      1  \n",
       "8  people sitting desk school      0  \n",
       "9            diner restaurant      1  "
      ]
     },
     "execution_count": 12,
     "metadata": {},
     "output_type": "execute_result"
    }
   ],
   "source": [
    "df.head(10)"
   ]
  },
  {
   "cell_type": "code",
   "execution_count": 13,
   "id": "5e87f590-ded3-4892-95df-edda73bdce94",
   "metadata": {},
   "outputs": [],
   "source": [
    "# 4. Vectorize using same TF-IDF vectorizer\n",
    "vectorizer = TfidfVectorizer(ngram_range=(1,3))\n",
    "vectorizer.fit(pd.concat([X1, X2]))\n",
    "\n",
    "X1_vec = vectorizer.transform(X1)\n",
    "X2_vec = vectorizer.transform(X2)\n"
   ]
  },
  {
   "cell_type": "code",
   "execution_count": 14,
   "id": "c6457e25-97b1-4fea-8c94-c8f1eba20240",
   "metadata": {},
   "outputs": [],
   "source": [
    "from scipy.sparse import hstack\n",
    "# 5. concatenate both the vectors\n",
    "# X_diff = hstack([X1_vec, X2_vec])"
   ]
  },
  {
   "cell_type": "code",
   "execution_count": 15,
   "id": "c0ffd71a-2f25-457b-940e-759bf45fa85b",
   "metadata": {},
   "outputs": [],
   "source": [
    "X_diff = abs(X1_vec - X2_vec)\n",
    "X_mult = X1_vec.multiply(X2_vec)\n",
    "X_combined = hstack([X1_vec, X2_vec, X_diff, X_mult])"
   ]
  },
  {
   "cell_type": "code",
   "execution_count": 16,
   "id": "20f96198-c014-4d77-b183-ed8041386483",
   "metadata": {},
   "outputs": [],
   "source": [
    "# 6. Train-test split\n",
    "X_train, X_test, y_train, y_test = train_test_split(X_diff, y, test_size=0.2, random_state=42)\n"
   ]
  },
  {
   "cell_type": "code",
   "execution_count": 17,
   "id": "ce6e97f2-5fa9-4f90-b4e0-119c998986aa",
   "metadata": {},
   "outputs": [
    {
     "name": "stdout",
     "output_type": "stream",
     "text": [
      "Accuracy: 0.7546615129161336\n",
      "✅ Training Accuracy: 0.9792\n",
      "✅ Testing Accuracy: 0.7547\n",
      "\n",
      "📊 Classification Report:\n",
      "\n",
      "              precision    recall  f1-score   support\n",
      "\n",
      "           0       0.77      0.73      0.75     36837\n",
      "           1       0.74      0.78      0.76     36637\n",
      "\n",
      "    accuracy                           0.75     73474\n",
      "   macro avg       0.76      0.75      0.75     73474\n",
      "weighted avg       0.76      0.75      0.75     73474\n",
      "\n"
     ]
    }
   ],
   "source": [
    "# 7. Train the SVM\n",
    "model = LinearSVC()\n",
    "model.fit(X_train, y_train)\n",
    "\n",
    "# 8. model evaluation\n",
    "y_train_pred = model.predict(X_train)\n",
    "y_test_pred = model.predict(X_test)\n",
    "\n",
    "print(\"Accuracy:\", accuracy_score(y_test, y_test_pred))\n",
    "# Training & Testing Accuracy\n",
    "train_acc = accuracy_score(y_train, y_train_pred)\n",
    "test_acc = accuracy_score(y_test, y_test_pred)\n",
    "\n",
    "print(f\"✅ Training Accuracy: {train_acc:.4f}\")\n",
    "print(f\"✅ Testing Accuracy: {test_acc:.4f}\")\n",
    "print(\"\\n📊 Classification Report:\\n\")\n",
    "print(classification_report(y_test, y_test_pred))"
   ]
  },
  {
   "cell_type": "code",
   "execution_count": 18,
   "id": "1b8d96c1-7660-47cd-8a52-1d3fd8b74fc8",
   "metadata": {},
   "outputs": [
    {
     "name": "stdout",
     "output_type": "stream",
     "text": [
      "Accuracy: 0.7749135748700221\n",
      "✅ Training Accuracy: 0.8775\n",
      "✅ Testing Accuracy: 0.7749\n",
      "\n",
      "📊 Classification Report:\n",
      "\n",
      "              precision    recall  f1-score   support\n",
      "\n",
      "           0       0.79      0.75      0.77     36837\n",
      "           1       0.76      0.80      0.78     36637\n",
      "\n",
      "    accuracy                           0.77     73474\n",
      "   macro avg       0.78      0.77      0.77     73474\n",
      "weighted avg       0.78      0.77      0.77     73474\n",
      "\n"
     ]
    }
   ],
   "source": [
    "# logistic regresssion\n",
    "from sklearn.linear_model import LogisticRegression\n",
    "\n",
    "model = LogisticRegression(max_iter=1000)\n",
    "model.fit(X_train, y_train)\n",
    "\n",
    "# 8. model evaluation\n",
    "y_train_pred = model.predict(X_train)\n",
    "y_test_pred = model.predict(X_test)\n",
    "\n",
    "print(\"Accuracy:\", accuracy_score(y_test, y_test_pred))\n",
    "\n",
    "# Training & Testing Accuracy\n",
    "train_acc = accuracy_score(y_train, y_train_pred)\n",
    "test_acc = accuracy_score(y_test, y_test_pred)\n",
    "\n",
    "print(f\"✅ Training Accuracy: {train_acc:.4f}\")\n",
    "print(f\"✅ Testing Accuracy: {test_acc:.4f}\")\n",
    "print(\"\\n📊 Classification Report:\\n\")\n",
    "print(classification_report(y_test, y_test_pred))"
   ]
  },
  {
   "cell_type": "code",
   "execution_count": null,
   "id": "a9565537-86ae-44e4-a0fe-e636978b8e39",
   "metadata": {},
   "outputs": [],
   "source": []
  },
  {
   "cell_type": "code",
   "execution_count": null,
   "id": "199fc774-7658-4d9f-9826-330e570e62b1",
   "metadata": {},
   "outputs": [],
   "source": []
  },
  {
   "cell_type": "code",
   "execution_count": null,
   "id": "ef1abaf8-e831-48d4-838d-e1b816c8aa5a",
   "metadata": {},
   "outputs": [],
   "source": []
  },
  {
   "cell_type": "code",
   "execution_count": null,
   "id": "a5067edb-2acb-4e42-a4c3-5208dc1dfd4d",
   "metadata": {},
   "outputs": [],
   "source": []
  },
  {
   "cell_type": "code",
   "execution_count": null,
   "id": "b20e564f-33f4-4d67-9480-83e833de1f6b",
   "metadata": {},
   "outputs": [],
   "source": []
  }
 ],
 "metadata": {
  "kernelspec": {
   "display_name": "Python 3 (ipykernel)",
   "language": "python",
   "name": "python3"
  },
  "language_info": {
   "codemirror_mode": {
    "name": "ipython",
    "version": 3
   },
   "file_extension": ".py",
   "mimetype": "text/x-python",
   "name": "python",
   "nbconvert_exporter": "python",
   "pygments_lexer": "ipython3",
   "version": "3.11.0"
  }
 },
 "nbformat": 4,
 "nbformat_minor": 5
}
